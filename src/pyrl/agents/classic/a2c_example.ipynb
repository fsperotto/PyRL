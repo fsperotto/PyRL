{
 "cells": [
  {
   "cell_type": "code",
   "execution_count": 1,
   "metadata": {},
   "outputs": [],
   "source": [
    "import gymnasium as gym\n",
    "import math\n",
    "import random\n",
    "import matplotlib\n",
    "import matplotlib.pyplot as plt\n",
    "from collections import namedtuple, deque\n",
    "from itertools import count\n",
    "\n",
    "import torch\n",
    "import torch.nn as nn\n",
    "import torch.optim as optim\n",
    "import torch.nn.functional as F"
   ]
  },
  {
   "cell_type": "code",
   "execution_count": 2,
   "metadata": {},
   "outputs": [
    {
     "data": {
      "text/plain": [
       "<matplotlib.pyplot._IonContext at 0x1dc37a78df0>"
      ]
     },
     "execution_count": 2,
     "metadata": {},
     "output_type": "execute_result"
    }
   ],
   "source": [
    "# set up matplotlib\n",
    "is_ipython = 'inline' in matplotlib.get_backend()\n",
    "if is_ipython:\n",
    "    from IPython import display\n",
    "\n",
    "plt.ion()"
   ]
  },
  {
   "cell_type": "code",
   "execution_count": 3,
   "metadata": {},
   "outputs": [],
   "source": [
    "episode_durations = []\n",
    "\n",
    "\n",
    "def plot_durations(show_result=False):\n",
    "    plt.figure(1)\n",
    "    durations_t = torch.tensor(episode_durations, dtype=torch.float)\n",
    "    if show_result:\n",
    "        plt.title('Result')\n",
    "    else:\n",
    "        plt.clf()\n",
    "        plt.title('Training...')\n",
    "    plt.xlabel('Episode')\n",
    "    plt.ylabel('Duration')\n",
    "    plt.plot(durations_t.numpy())\n",
    "    # Take 100 episode averages and plot them too\n",
    "    if len(durations_t) >= 100:\n",
    "        means = durations_t.unfold(0, 100, 1).mean(1).view(-1)\n",
    "        means = torch.cat((torch.zeros(99), means))\n",
    "        plt.plot(means.numpy())\n",
    "\n",
    "    plt.pause(0.001)  # pause a bit so that plots are updated\n",
    "    if is_ipython:\n",
    "        if not show_result:\n",
    "            display.display(plt.gcf())\n",
    "            display.clear_output(wait=True)\n",
    "        else:\n",
    "            display.display(plt.gcf())"
   ]
  },
  {
   "cell_type": "code",
   "execution_count": 6,
   "metadata": {},
   "outputs": [
    {
     "ename": "TensorforceError",
     "evalue": "Invalid value for Runner argument environment given num_parallel: OpenAIGym(MountainCar-v0) is Environment instance, but specification dict is required.",
     "output_type": "error",
     "traceback": [
      "\u001b[1;31m---------------------------------------------------------------------------\u001b[0m",
      "\u001b[1;31mTensorforceError\u001b[0m                          Traceback (most recent call last)",
      "\u001b[1;32m~\\AppData\\Local\\Temp\\ipykernel_22492\\3045771685.py\u001b[0m in \u001b[0;36m<cell line: 16>\u001b[1;34m()\u001b[0m\n\u001b[0;32m     14\u001b[0m \u001b[0mnum_episodes\u001b[0m \u001b[1;33m=\u001b[0m \u001b[1;36m4000\u001b[0m\u001b[1;33m\u001b[0m\u001b[1;33m\u001b[0m\u001b[0m\n\u001b[0;32m     15\u001b[0m \u001b[1;33m\u001b[0m\u001b[0m\n\u001b[1;32m---> 16\u001b[1;33m runner = Runner(\n\u001b[0m\u001b[0;32m     17\u001b[0m     \u001b[0magent\u001b[0m\u001b[1;33m=\u001b[0m\u001b[0magent\u001b[0m\u001b[1;33m,\u001b[0m\u001b[1;33m\u001b[0m\u001b[1;33m\u001b[0m\u001b[0m\n\u001b[0;32m     18\u001b[0m     \u001b[0menvironment\u001b[0m\u001b[1;33m=\u001b[0m\u001b[0menv\u001b[0m\u001b[1;33m,\u001b[0m\u001b[1;33m\u001b[0m\u001b[1;33m\u001b[0m\u001b[0m\n",
      "\u001b[1;32mc:\\users\\ayman\\desktop\\tensorforce\\tensorforce\\execution\\runner.py\u001b[0m in \u001b[0;36m__init__\u001b[1;34m(self, agent, environment, max_episode_timesteps, num_parallel, environments, evaluation, remote, blocking, host, port)\u001b[0m\n\u001b[0;32m    139\u001b[0m                 )\n\u001b[0;32m    140\u001b[0m             \u001b[1;32mif\u001b[0m \u001b[0misinstance\u001b[0m\u001b[1;33m(\u001b[0m\u001b[0menvironment\u001b[0m\u001b[1;33m,\u001b[0m \u001b[0mEnvironment\u001b[0m\u001b[1;33m)\u001b[0m\u001b[1;33m:\u001b[0m\u001b[1;33m\u001b[0m\u001b[1;33m\u001b[0m\u001b[0m\n\u001b[1;32m--> 141\u001b[1;33m                 raise TensorforceError.value(\n\u001b[0m\u001b[0;32m    142\u001b[0m                     \u001b[0mname\u001b[0m\u001b[1;33m=\u001b[0m\u001b[1;34m'Runner'\u001b[0m\u001b[1;33m,\u001b[0m \u001b[0margument\u001b[0m\u001b[1;33m=\u001b[0m\u001b[1;34m'environment'\u001b[0m\u001b[1;33m,\u001b[0m \u001b[0mvalue\u001b[0m\u001b[1;33m=\u001b[0m\u001b[0menvironment\u001b[0m\u001b[1;33m,\u001b[0m\u001b[1;33m\u001b[0m\u001b[1;33m\u001b[0m\u001b[0m\n\u001b[0;32m    143\u001b[0m                     \u001b[0mcondition\u001b[0m\u001b[1;33m=\u001b[0m\u001b[1;34m'num_parallel'\u001b[0m\u001b[1;33m,\u001b[0m\u001b[1;33m\u001b[0m\u001b[1;33m\u001b[0m\u001b[0m\n",
      "\u001b[1;31mTensorforceError\u001b[0m: Invalid value for Runner argument environment given num_parallel: OpenAIGym(MountainCar-v0) is Environment instance, but specification dict is required."
     ]
    }
   ],
   "source": [
    "from tensorforce import Agent, Environment\n",
    "from tensorforce.environments import OpenAIGym\n",
    "from tensorforce.execution import Runner\n",
    "\n",
    "env = Environment.create(environment='gym', level=\"MountainCar-v0\", visualize=True, max_episode_timesteps=200)\n",
    "\n",
    "# Instantiate a Tensorforce agent\n",
    "agent = Agent.create(\n",
    "    agent='a2c',\n",
    "    environment=env,  # alternatively: states, actions, (max_episode_timesteps)\n",
    "    batch_size=128,  \n",
    ")\n",
    "\n",
    "num_episodes = 4000\n",
    "\n",
    "runner = Runner(\n",
    "    agent=agent,\n",
    "    environment=env,\n",
    "    max_episode_timesteps=200,\n",
    "    # num_parallel=5, remote='multiprocessing',\n",
    ")\n",
    "\n",
    "runner.run(num_episodes=num_episodes)\n",
    "\n",
    "# runner.run(num_episodes=100, evaluation=True)\n",
    "\n",
    "runner.close()\n",
    "\n",
    "# for episode in range(num_episodes):\n",
    "#     episode_states = list()\n",
    "#     episode_internals = list()\n",
    "#     episode_actions = list()\n",
    "#     episode_terminal = list()\n",
    "#     episode_reward = list()\n",
    "\n",
    "#     states = env.reset()\n",
    "#     # agent.reset()\n",
    "#     internals = agent.initial_internals()\n",
    "#     # print('states = ', states, 'internals = ', internals)\n",
    "#     terminal = False\n",
    "#     sum_rewards = 0.0\n",
    "#     # t = 0\n",
    "#     while not terminal:                                                                                                                                                                                                                                                                                                                                                                                                                                                                                                                                                                                                                                                                                                   \n",
    "#         episode_states.append(states)\n",
    "#         episode_internals.append(internals)\n",
    "#         actions, internals = agent.act(states=states, internals=internals, independent=True)\n",
    "#         episode_actions.append(actions)\n",
    "#         states, terminal, reward = env.execute(actions=actions)\n",
    "#         # print(states, terminal, reward)\n",
    "#         # agent.observe(reward, terminal)\n",
    "#         # env.render()\n",
    "#         episode_terminal.append(terminal)\n",
    "#         episode_reward.append(reward)\n",
    "#         sum_rewards += reward\n",
    "#         # t += 1\n",
    "#     print('Episode {}: {}'.format(episode, sum_rewards))\n",
    "    \n",
    "#     agent.experience(\n",
    "#         states=episode_states, internals=episode_internals, actions=episode_actions,\n",
    "#         terminal=episode_terminal, reward=episode_reward\n",
    "#     )\n",
    "\n",
    "#     agent.update()\n",
    "    \n",
    "#     episode_durations.append(sum_rewards)\n",
    "#     plot_durations()\n",
    "\n",
    "# print('Complete')\n",
    "# plot_durations(show_result=True)\n",
    "# plt.ioff()\n",
    "# plt.show()\n",
    "\n",
    "# agent.close()\n",
    "# env.close()"
   ]
  },
  {
   "cell_type": "code",
   "execution_count": null,
   "metadata": {},
   "outputs": [],
   "source": []
  },
  {
   "cell_type": "code",
   "execution_count": null,
   "metadata": {},
   "outputs": [
    {
     "name": "stdout",
     "output_type": "stream",
     "text": [
      "[ 0.00492039 -0.0377483   0.04949679  0.03100904] OrderedDict([('policy', OrderedDict()), ('baseline', OrderedDict())])\n",
      "OrderedDict()\n",
      "Episode 599: 8.0\n"
     ]
    },
    {
     "data": {
      "image/png": "[encoded data removed]",
      "text/plain": [
       "<Figure size 640x480 with 1 Axes>"
      ]
     },
     "metadata": {},
     "output_type": "display_data"
    },
    {
     "data": {
      "text/plain": [
       "<Figure size 640x480 with 0 Axes>"
      ]
     },
     "metadata": {},
     "output_type": "display_data"
    }
   ],
   "source": [
    "from a2c import A2CAgent\n",
    "from tensorforce.environments import OpenAIGym\n",
    "from gym.spaces import Discrete\n",
    "\n",
    "env = OpenAIGym(level=\"CartPole-v1\")\n",
    "# device = torch.device(\"cuda\" if torch.cuda.is_available() else \"cpu\")\n",
    "\n",
    "num_episodes = 600\n",
    "observation_space = env.states()\n",
    "action_space = Discrete(env.actions()['num_values'])\n",
    "# print(action_space['num_values'])\n",
    "# print(action_space)\n",
    "print(env.reset())\n",
    "# state, info = env.reset()\n",
    "# print(len(state))\n",
    "a2c_agent = A2CAgent(env, observation_space=observation_space, action_space=action_space, batch_size=365) \n",
    "\n",
    "# Train for 100 episodes\n",
    "for episode in range(num_episodes):\n",
    "    # Record episode experience\n",
    "    episode_states = list()\n",
    "    episode_internals = list()\n",
    "    episode_actions = list()\n",
    "    episode_terminal = list()\n",
    "    episode_reward = list()\n",
    "\n",
    "    # Episode using independent-act and agent.intial_internals()\n",
    "    states = env.reset()\n",
    "    a2c_agent.reset(states)\n",
    "    internals = a2c_agent.initial_internals()\n",
    "    print(states, internals)\n",
    "    print(internals['policy'])\n",
    "    terminal = False\n",
    "    sum_rewards = 0.0\n",
    "    t = 0\n",
    "    # break\n",
    "    while not terminal:\n",
    "                                                                                                                                                                                                                                                                                                                                                                                                                                                                                                                                                                                                                                                                                                            \n",
    "        episode_states.append(states)\n",
    "        # episode_internals.append(internals)\n",
    "        # a2c_agent.observe(states, r=0.0)\n",
    "        \n",
    "        actions = a2c_agent.act()\n",
    "        episode_actions.append(actions)\n",
    "        states, terminal, reward = env.execute(actions=actions)\n",
    "        # a2c_agent.s = states\n",
    "        # a2c_agent.r = reward\n",
    "        a2c_agent.observe(states, reward, terminal)\n",
    "        episode_terminal.append(terminal)\n",
    "        episode_reward.append(reward)\n",
    "        sum_rewards += reward\n",
    "        # t += 1\n",
    "    print('Episode {}: {}'.format(episode, sum_rewards))\n",
    "\n",
    "    # done = terminal\n",
    "        \n",
    "    # if done:\n",
    "    # break\n",
    "    \n",
    "    # print('states = ', episode_states)\n",
    "    # # print('internals = ', episode_internals)\n",
    "    # print('actions = ', episode_actions)\n",
    "    # print('terminal = ', episode_terminal)\n",
    "    # print('reward = ', episode_reward)\n",
    "    \n",
    "    # Feed recorded experience to agent\n",
    "    a2c_agent.experience(\n",
    "        states=episode_states, actions=episode_actions,\n",
    "        terminal=episode_terminal, reward=episode_reward,\n",
    "        # internals=episode_internals\n",
    "    )\n",
    "\n",
    "    # Perform update\n",
    "    a2c_agent.update()\n",
    "    \n",
    "    episode_durations.append(sum_rewards)\n",
    "    plot_durations()"
   ]
  },
  {
   "cell_type": "code",
   "execution_count": null,
   "metadata": {},
   "outputs": [
    {
     "ename": "TensorforceError",
     "evalue": "Calling agent.act must be preceded by agent.observe for training, or agent.act argument 'independent' must be passed as True.",
     "output_type": "error",
     "traceback": [
      "\u001b[1;31m---------------------------------------------------------------------------\u001b[0m",
      "\u001b[1;31mTensorforceError\u001b[0m                          Traceback (most recent call last)",
      "\u001b[1;32m~\\AppData\\Local\\Temp\\ipykernel_1812\\2762909773.py\u001b[0m in \u001b[0;36m<cell line: 5>\u001b[1;34m()\u001b[0m\n\u001b[0;32m     11\u001b[0m \u001b[1;33m\u001b[0m\u001b[0m\n\u001b[0;32m     12\u001b[0m     \u001b[1;32mfor\u001b[0m \u001b[0mt\u001b[0m \u001b[1;32min\u001b[0m \u001b[0mcount\u001b[0m\u001b[1;33m(\u001b[0m\u001b[1;33m)\u001b[0m\u001b[1;33m:\u001b[0m\u001b[1;33m\u001b[0m\u001b[1;33m\u001b[0m\u001b[0m\n\u001b[1;32m---> 13\u001b[1;33m         \u001b[0mactions\u001b[0m \u001b[1;33m=\u001b[0m \u001b[0ma2c_agent\u001b[0m\u001b[1;33m.\u001b[0m\u001b[0mact\u001b[0m\u001b[1;33m(\u001b[0m\u001b[1;33m)\u001b[0m\u001b[1;33m\u001b[0m\u001b[1;33m\u001b[0m\u001b[0m\n\u001b[0m\u001b[0;32m     14\u001b[0m         \u001b[0mstates\u001b[0m\u001b[1;33m,\u001b[0m \u001b[0mterminal\u001b[0m\u001b[1;33m,\u001b[0m \u001b[0mreward\u001b[0m \u001b[1;33m=\u001b[0m \u001b[0menv\u001b[0m\u001b[1;33m.\u001b[0m\u001b[0mexecute\u001b[0m\u001b[1;33m(\u001b[0m\u001b[0mactions\u001b[0m\u001b[1;33m=\u001b[0m\u001b[0mactions\u001b[0m\u001b[1;33m)\u001b[0m\u001b[1;33m\u001b[0m\u001b[1;33m\u001b[0m\u001b[0m\n\u001b[0;32m     15\u001b[0m         \u001b[0ma2c_agent\u001b[0m\u001b[1;33m.\u001b[0m\u001b[0ms\u001b[0m \u001b[1;33m=\u001b[0m \u001b[0mstates\u001b[0m\u001b[1;33m\u001b[0m\u001b[1;33m\u001b[0m\u001b[0m\n",
      "\u001b[1;32mc:\\Users\\ayman\\Desktop\\PyRL\\src\\pyrl\\agents\\classic\\a2c.py\u001b[0m in \u001b[0;36mact\u001b[1;34m(self)\u001b[0m\n\u001b[0;32m     85\u001b[0m         \u001b[1;31m# internals = self.internals\u001b[0m\u001b[1;33m\u001b[0m\u001b[1;33m\u001b[0m\u001b[0m\n\u001b[0;32m     86\u001b[0m         \u001b[0mstates\u001b[0m \u001b[1;33m=\u001b[0m \u001b[0mself\u001b[0m\u001b[1;33m.\u001b[0m\u001b[0ms\u001b[0m\u001b[1;33m\u001b[0m\u001b[1;33m\u001b[0m\u001b[0m\n\u001b[1;32m---> 87\u001b[1;33m         \u001b[0mself\u001b[0m\u001b[1;33m.\u001b[0m\u001b[0ma\u001b[0m \u001b[1;33m=\u001b[0m \u001b[0mself\u001b[0m\u001b[1;33m.\u001b[0m\u001b[0magent\u001b[0m\u001b[1;33m.\u001b[0m\u001b[0mact\u001b[0m\u001b[1;33m(\u001b[0m\u001b[0mstates\u001b[0m\u001b[1;33m=\u001b[0m\u001b[0mstates\u001b[0m\u001b[1;33m)\u001b[0m\u001b[1;33m\u001b[0m\u001b[1;33m\u001b[0m\u001b[0m\n\u001b[0m\u001b[0;32m     88\u001b[0m         \u001b[1;32mreturn\u001b[0m \u001b[0mself\u001b[0m\u001b[1;33m.\u001b[0m\u001b[0ma\u001b[0m\u001b[1;33m\u001b[0m\u001b[1;33m\u001b[0m\u001b[0m\n\u001b[0;32m     89\u001b[0m \u001b[1;33m\u001b[0m\u001b[0m\n",
      "\u001b[1;32mc:\\users\\ayman\\desktop\\tensorforce\\tensorforce\\agents\\agent.py\u001b[0m in \u001b[0;36mact\u001b[1;34m(self, states, internals, parallel, independent, deterministic, evaluation)\u001b[0m\n\u001b[0;32m    413\u001b[0m             )\n\u001b[0;32m    414\u001b[0m \u001b[1;33m\u001b[0m\u001b[0m\n\u001b[1;32m--> 415\u001b[1;33m         return super().act(\n\u001b[0m\u001b[0;32m    416\u001b[0m             \u001b[0mstates\u001b[0m\u001b[1;33m=\u001b[0m\u001b[0mstates\u001b[0m\u001b[1;33m,\u001b[0m \u001b[0minternals\u001b[0m\u001b[1;33m=\u001b[0m\u001b[0minternals\u001b[0m\u001b[1;33m,\u001b[0m \u001b[0mparallel\u001b[0m\u001b[1;33m=\u001b[0m\u001b[0mparallel\u001b[0m\u001b[1;33m,\u001b[0m \u001b[0mindependent\u001b[0m\u001b[1;33m=\u001b[0m\u001b[0mindependent\u001b[0m\u001b[1;33m,\u001b[0m\u001b[1;33m\u001b[0m\u001b[1;33m\u001b[0m\u001b[0m\n\u001b[0;32m    417\u001b[0m             \u001b[0mdeterministic\u001b[0m\u001b[1;33m=\u001b[0m\u001b[0mdeterministic\u001b[0m\u001b[1;33m\u001b[0m\u001b[1;33m\u001b[0m\u001b[0m\n",
      "\u001b[1;32mc:\\users\\ayman\\desktop\\tensorforce\\tensorforce\\agents\\recorder.py\u001b[0m in \u001b[0;36mact\u001b[1;34m(self, states, internals, parallel, independent, deterministic, **kwargs)\u001b[0m\n\u001b[0;32m    245\u001b[0m         \u001b[1;32mif\u001b[0m \u001b[1;32mnot\u001b[0m \u001b[0mindependent\u001b[0m\u001b[1;33m:\u001b[0m\u001b[1;33m\u001b[0m\u001b[1;33m\u001b[0m\u001b[0m\n\u001b[0;32m    246\u001b[0m             \u001b[1;32mif\u001b[0m \u001b[1;32mnot\u001b[0m \u001b[0mself\u001b[0m\u001b[1;33m.\u001b[0m\u001b[0mtimestep_completed\u001b[0m\u001b[1;33m[\u001b[0m\u001b[0mparallel\u001b[0m\u001b[1;33m]\u001b[0m\u001b[1;33m.\u001b[0m\u001b[0mall\u001b[0m\u001b[1;33m(\u001b[0m\u001b[1;33m)\u001b[0m\u001b[1;33m:\u001b[0m\u001b[1;33m\u001b[0m\u001b[1;33m\u001b[0m\u001b[0m\n\u001b[1;32m--> 247\u001b[1;33m                 raise TensorforceError(\n\u001b[0m\u001b[0;32m    248\u001b[0m                     \u001b[0mmessage\u001b[0m\u001b[1;33m=\u001b[0m\u001b[1;34m\"Calling agent.act must be preceded by agent.observe for training, or \"\u001b[0m\u001b[1;33m\u001b[0m\u001b[1;33m\u001b[0m\u001b[0m\n\u001b[0;32m    249\u001b[0m                             \u001b[1;34m\"agent.act argument 'independent' must be passed as True.\"\u001b[0m\u001b[1;33m\u001b[0m\u001b[1;33m\u001b[0m\u001b[0m\n",
      "\u001b[1;31mTensorforceError\u001b[0m: Calling agent.act must be preceded by agent.observe for training, or agent.act argument 'independent' must be passed as True."
     ]
    }
   ],
   "source": [
    "# Evaluate for 100 episodes\n",
    "sum_rewards = 0.0\n",
    "eval_episodes = 10\n",
    "\n",
    "for i_episode in range(eval_episodes):\n",
    "    # Initialize the environment and get it's state\n",
    "    states = env.reset()\n",
    "    a2c_agent.reset(states)\n",
    "    internals = a2c_agent.initial_internals()\n",
    "    terminal = False\n",
    "    \n",
    "    for t in count():\n",
    "        actions = a2c_agent.act()\n",
    "        states, terminal, reward = env.execute(actions=actions)\n",
    "        a2c_agent.s = states\n",
    "        a2c_agent.r = reward\n",
    "        \n",
    "        done = terminal\n",
    "        \n",
    "        if done:\n",
    "            episode_durations.append(t + 1)\n",
    "            plot_durations()\n",
    "            break\n",
    "\n",
    "print('Complete')\n",
    "plot_durations(show_result=True)\n",
    "plt.ioff()\n",
    "plt.show()\n",
    "\n",
    "# Close agent and environment\n",
    "a2c_agent.close()\n",
    "env.close()"
   ]
  },
  {
   "cell_type": "code",
   "execution_count": null,
   "metadata": {},
   "outputs": [
    {
     "ename": "AttributeError",
     "evalue": "'NoneType' object has no attribute 'reset'",
     "output_type": "error",
     "traceback": [
      "\u001b[1;31m---------------------------------------------------------------------------\u001b[0m",
      "\u001b[1;31mAttributeError\u001b[0m                            Traceback (most recent call last)",
      "\u001b[1;32m~\\AppData\\Local\\Temp\\ipykernel_16292\\3367661591.py\u001b[0m in \u001b[0;36m<cell line: 1>\u001b[1;34m()\u001b[0m\n\u001b[0;32m      1\u001b[0m \u001b[1;32mfor\u001b[0m \u001b[0m_\u001b[0m \u001b[1;32min\u001b[0m \u001b[0mrange\u001b[0m\u001b[1;33m(\u001b[0m\u001b[0meval_episodes\u001b[0m\u001b[1;33m)\u001b[0m\u001b[1;33m:\u001b[0m\u001b[1;33m\u001b[0m\u001b[1;33m\u001b[0m\u001b[0m\n\u001b[1;32m----> 2\u001b[1;33m     \u001b[0mstates\u001b[0m \u001b[1;33m=\u001b[0m \u001b[0menv\u001b[0m\u001b[1;33m.\u001b[0m\u001b[0mreset\u001b[0m\u001b[1;33m(\u001b[0m\u001b[1;33m)\u001b[0m\u001b[1;33m\u001b[0m\u001b[1;33m\u001b[0m\u001b[0m\n\u001b[0m\u001b[0;32m      3\u001b[0m     \u001b[0ma2c_agent\u001b[0m\u001b[1;33m.\u001b[0m\u001b[0mreset\u001b[0m\u001b[1;33m(\u001b[0m\u001b[0mstates\u001b[0m\u001b[1;33m)\u001b[0m\u001b[1;33m\u001b[0m\u001b[1;33m\u001b[0m\u001b[0m\n\u001b[0;32m      4\u001b[0m     \u001b[0minternals\u001b[0m \u001b[1;33m=\u001b[0m \u001b[0ma2c_agent\u001b[0m\u001b[1;33m.\u001b[0m\u001b[0minitial_internals\u001b[0m\u001b[1;33m(\u001b[0m\u001b[1;33m)\u001b[0m\u001b[1;33m\u001b[0m\u001b[1;33m\u001b[0m\u001b[0m\n\u001b[0;32m      5\u001b[0m     \u001b[0mterminal\u001b[0m \u001b[1;33m=\u001b[0m \u001b[1;32mFalse\u001b[0m\u001b[1;33m\u001b[0m\u001b[1;33m\u001b[0m\u001b[0m\n",
      "\u001b[1;32mc:\\users\\ayman\\desktop\\tensorforce\\tensorforce\\environments\\openai_gym.py\u001b[0m in \u001b[0;36mreset\u001b[1;34m(self)\u001b[0m\n\u001b[0;32m    225\u001b[0m         \u001b[1;32mif\u001b[0m \u001b[0misinstance\u001b[0m\u001b[1;33m(\u001b[0m\u001b[0mself\u001b[0m\u001b[1;33m.\u001b[0m\u001b[0menvironment\u001b[0m\u001b[1;33m,\u001b[0m \u001b[0mgym\u001b[0m\u001b[1;33m.\u001b[0m\u001b[0mwrappers\u001b[0m\u001b[1;33m.\u001b[0m\u001b[0mMonitor\u001b[0m\u001b[1;33m)\u001b[0m\u001b[1;33m:\u001b[0m\u001b[1;33m\u001b[0m\u001b[1;33m\u001b[0m\u001b[0m\n\u001b[0;32m    226\u001b[0m             \u001b[0mself\u001b[0m\u001b[1;33m.\u001b[0m\u001b[0menvironment\u001b[0m\u001b[1;33m.\u001b[0m\u001b[0mstats_recorder\u001b[0m\u001b[1;33m.\u001b[0m\u001b[0mdone\u001b[0m \u001b[1;33m=\u001b[0m \u001b[1;32mTrue\u001b[0m\u001b[1;33m\u001b[0m\u001b[1;33m\u001b[0m\u001b[0m\n\u001b[1;32m--> 227\u001b[1;33m         \u001b[0mstates\u001b[0m \u001b[1;33m=\u001b[0m \u001b[0mself\u001b[0m\u001b[1;33m.\u001b[0m\u001b[0menvironment\u001b[0m\u001b[1;33m.\u001b[0m\u001b[0mreset\u001b[0m\u001b[1;33m(\u001b[0m\u001b[1;33m)\u001b[0m\u001b[1;33m\u001b[0m\u001b[1;33m\u001b[0m\u001b[0m\n\u001b[0m\u001b[0;32m    228\u001b[0m         \u001b[0mself\u001b[0m\u001b[1;33m.\u001b[0m\u001b[0mtimestep\u001b[0m \u001b[1;33m=\u001b[0m \u001b[1;36m0\u001b[0m\u001b[1;33m\u001b[0m\u001b[1;33m\u001b[0m\u001b[0m\n\u001b[0;32m    229\u001b[0m         states = OpenAIGym.flatten_state(\n",
      "\u001b[1;31mAttributeError\u001b[0m: 'NoneType' object has no attribute 'reset'"
     ]
    }
   ],
   "source": [
    "\n",
    "for _ in range(eval_episodes):\n",
    "    states = env.reset()\n",
    "    a2c_agent.reset(states)\n",
    "    internals = a2c_agent.initial_internals()\n",
    "    terminal = False\n",
    "    while not terminal:\n",
    "        actions, internals = a2c_agent.act()\n",
    "        states, terminal, reward = env.execute(actions=actions)\n",
    "        a2c_agent.s = states\n",
    "        a2c_agent.r = reward\n",
    "        sum_rewards += reward\n",
    "print('Mean evaluation return:', sum_rewards / 100.0)"
   ]
  }
 ],
 "metadata": {
  "kernelspec": {
   "display_name": "base",
   "language": "python",
   "name": "python3"
  },
  "language_info": {
   "codemirror_mode": {
    "name": "ipython",
    "version": 3
   },
   "file_extension": ".py",
   "mimetype": "text/x-python",
   "name": "python",
   "nbconvert_exporter": "python",
   "pygments_lexer": "ipython3",
   "version": "3.9.12"
  },
  "orig_nbformat": 4,
  "vscode": {
   "interpreter": {
    "hash": "307db1879a8972bb8485fe29d6c2da5f4d303ae0feb724e347e56aa4e076782e"
   }
  }
 },
 "nbformat": 4,
 "nbformat_minor": 2
}
