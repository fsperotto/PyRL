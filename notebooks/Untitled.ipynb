{
 "cells": [
  {
   "cell_type": "code",
   "execution_count": 1,
   "id": "23ba82b1",
   "metadata": {},
   "outputs": [],
   "source": [
    "import pyrl as rl"
   ]
  },
  {
   "cell_type": "code",
   "execution_count": 2,
   "id": "0a9577f9",
   "metadata": {},
   "outputs": [],
   "source": [
    "from rl import Agent, Env, Sim"
   ]
  },
  {
   "cell_type": "code",
   "execution_count": null,
   "id": "5081b19f",
   "metadata": {},
   "outputs": [],
   "source": []
  }
 ],
 "metadata": {
  "kernelspec": {
   "display_name": "Python 3 (ipykernel)",
   "language": "python",
   "name": "python3"
  },
  "language_info": {
   "codemirror_mode": {
    "name": "ipython",
    "version": 3
   },
   "file_extension": ".py",
   "mimetype": "text/x-python",
   "name": "python",
   "nbconvert_exporter": "python",
   "pygments_lexer": "ipython3",
   "version": "3.8.16"
  }
 },
 "nbformat": 4,
 "nbformat_minor": 5
}
