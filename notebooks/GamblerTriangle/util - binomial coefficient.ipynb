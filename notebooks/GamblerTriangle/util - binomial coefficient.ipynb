{
 "cells": [
  {
   "cell_type": "markdown",
   "id": "b26f7d3f",
   "metadata": {},
   "source": [
    "## Faster method for the Binomial Coefficient in Python\n",
    "\n",
    "from Python 3.8, use *math.comb*"
   ]
  },
  {
   "cell_type": "code",
   "execution_count": 1,
   "id": "cc4bcbd2",
   "metadata": {},
   "outputs": [],
   "source": [
    "from scipy.special import binom as scipybinom\n",
    "from scipy.special import comb as scipycomb\n",
    "from math import comb\n",
    "from itertools import product as nested"
   ]
  },
  {
   "cell_type": "code",
   "execution_count": 2,
   "id": "762c6b5e",
   "metadata": {},
   "outputs": [
    {
     "name": "stdout",
     "output_type": "stream",
     "text": [
      "math.comb: exact and fast. C(100, 20) = 535983370403809682970\n",
      "41.3 ms ± 847 µs per loop (mean ± std. dev. of 7 runs, 10 loops each)\n",
      "scipy.special.comb_exact: exact but slower. C(100, 20) = 535983370403809682970\n",
      "58.1 ms ± 298 µs per loop (mean ± std. dev. of 7 runs, 10 loops each)\n",
      "scipy.special.comb: imprecise and slower. C(100, 20) = 5.359833704038096e+20\n",
      "156 ms ± 1.81 ms per loop (mean ± std. dev. of 7 runs, 10 loops each)\n",
      "scipy.special.binom: fast but imprecise. C(100, 20) = 5.359833704038096e+20\n",
      "39.1 ms ± 706 µs per loop (mean ± std. dev. of 7 runs, 10 loops each)\n"
     ]
    }
   ],
   "source": [
    "print('math.comb: exact and fast. C(100, 20) =', comb(100,20))\n",
    "%timeit for n, k in nested(range(200), range(200)): comb(n,k)\n",
    "print('scipy.special.comb_exact: exact but slower. C(100, 20) =', scipycomb(100,20,exact=True))\n",
    "%timeit for n, k in nested(range(200), range(200)): scipycomb(n,k, exact=True)\n",
    "print('scipy.special.comb: imprecise and slower. C(100, 20) =', scipycomb(100,20))\n",
    "%timeit for n, k in nested(range(200), range(200)): scipycomb(n,k)\n",
    "print('scipy.special.binom: fast but imprecise. C(100, 20) =', scipybinom(100,20))\n",
    "%timeit for n, k in nested(range(200), range(200)): scipybinom(n,k)"
   ]
  },
  {
   "cell_type": "code",
   "execution_count": 3,
   "id": "50911afe",
   "metadata": {},
   "outputs": [
    {
     "name": "stdout",
     "output_type": "stream",
     "text": [
      "math.comb: exact and fast. C(100, 20) = 252\n",
      "8.21 µs ± 91.7 ns per loop (mean ± std. dev. of 7 runs, 100000 loops each)\n",
      "scipy.special.comb_exact: exact but slower. C(100, 20) = 252\n",
      "20.7 µs ± 39.8 ns per loop (mean ± std. dev. of 7 runs, 10000 loops each)\n",
      "scipy.special.comb: imprecise and slower. C(100, 20) = 252.0\n",
      "372 µs ± 4.38 µs per loop (mean ± std. dev. of 7 runs, 1000 loops each)\n",
      "scipy.special.binom: fast but imprecise. C(100, 20) = 252.0\n",
      "91.9 µs ± 910 ns per loop (mean ± std. dev. of 7 runs, 10000 loops each)\n"
     ]
    }
   ],
   "source": [
    "print('math.comb: exact and fast. C(100, 20) =', comb(10,5))\n",
    "%timeit for n, k in nested(range(10), range(10)): comb(n,k)\n",
    "print('scipy.special.comb_exact: exact but slower. C(100, 20) =', scipycomb(10,5,exact=True))\n",
    "%timeit for n, k in nested(range(10), range(10)): scipycomb(n,k, exact=True)\n",
    "print('scipy.special.comb: imprecise and slower. C(100, 20) =', scipycomb(10,5))\n",
    "%timeit for n, k in nested(range(10), range(10)): scipycomb(n,k)\n",
    "print('scipy.special.binom: fast but imprecise. C(100, 20) =', scipybinom(10,5))\n",
    "%timeit for n, k in nested(range(10), range(10)): scipybinom(n,k)"
   ]
  },
  {
   "cell_type": "code",
   "execution_count": null,
   "id": "1055417a",
   "metadata": {},
   "outputs": [],
   "source": []
  }
 ],
 "metadata": {
  "kernelspec": {
   "display_name": "Python 3",
   "language": "python",
   "name": "python3"
  },
  "language_info": {
   "codemirror_mode": {
    "name": "ipython",
    "version": 3
   },
   "file_extension": ".py",
   "mimetype": "text/x-python",
   "name": "python",
   "nbconvert_exporter": "python",
   "pygments_lexer": "ipython3",
   "version": "3.8.8"
  }
 },
 "nbformat": 4,
 "nbformat_minor": 5
}
