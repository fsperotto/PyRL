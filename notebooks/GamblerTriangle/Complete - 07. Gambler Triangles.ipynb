{
 "cells": [
  {
   "cell_type": "markdown",
   "id": "f9dea38d",
   "metadata": {},
   "source": [
    "# Gambler Triangle\n",
    "\n",
    "The gambler triangle is the budgeted triangle (centered and shifted to $b$) truncated at $0$ and $g$.\n",
    "\n",
    "It works like an origami, by successively \"folding\" the triangle at positions $0$ and $g$, alternating subtraction then sum of the corresponding values.\n",
    "\n",
    "$\\begin{align}\n",
    "\\mathcal{Gambler}_{b,g}\\mathcal{Z}\\binom{n}{s}\n",
    "\\ & = \\ \\mathcal{Surv}_{b}\\mathcal{Z}\\binom{n}{s} + \n",
    "\\sum_{i=1}^{\\infty} \\big[ - \\mathcal{Budget}_{b}\\mathcal{Z}\\binom{n}{-2ig-s} - \\mathcal{Budget}_{b}\\mathcal{Z}\\binom{n}{2ig-s} + \\mathcal{Budget}_{b}\\mathcal{Z}\\binom{n}{-2ig+s} + \\mathcal{Budget}_{b}\\mathcal{Z}\\binom{n}{2ig+s} \\big] \\\\\n",
    "\\ & = \\ \\mathcal{Budget}_{b}\\mathcal{Z}\\binom{n}{s} - \\mathcal{Budget}_{-b}\\mathcal{Z}\\binom{n}{s} +  \n",
    "\\sum_{i=1}^{\\infty} ...\\\\\n",
    "\\ & = \\ \\begin{cases} \n",
    "  \\mathcal{Z}\\binom{n}{\\frac{n+s-b}{2}} - \\mathcal{Z}\\binom{n}{\\frac{n-s-b}{2}} \n",
    "  \\sum_{i=1}^{\\infty} \\big[\n",
    "      -\\mathcal{Z}\\binom{n}{\\frac{n-s-b}{2}-ig} -\\mathcal{Z}\\binom{n}{\\frac{n-s-b}{2}+ig}   \n",
    "      +\\mathcal{Z}\\binom{n}{\\frac{n+s-b}{2}-ig} +\\mathcal{Z}\\binom{n}{\\frac{n+s-b}{2}+ig}  \\big]\n",
    "  & \\text{if } \\frac{n + s \\pm b}{2} \\in \\mathbb{N} \\\\\n",
    "  0 & \\text{otherwise}\n",
    "\\end{cases}\n",
    "\\end{align}$\n",
    "\n",
    "## Remembering:\n",
    "\n",
    "The surviving triangle is a budgeted triangle (i.e. centered then shifted) truncated at zero.\n",
    "\n",
    "$\\begin{align}\n",
    "\\mathcal{Surv}_{b}\\mathcal{Z}\\binom{n}{s}\n",
    "\\ & = \\ \\mathcal{Budget}_{b}\\mathcal{Z}\\binom{n}{s} - \\mathcal{Budget}_{-b}\\mathcal{Z}\\binom{n}{s}\\\\\n",
    "\\ & = \\ \\begin{cases} \n",
    "  \\mathcal{Z}\\binom{n}{\\frac{n+s-b}{2}} - \\mathcal{Z}\\binom{n}{\\frac{n+s+b}{2}} & \\text{if } \\frac{n + s \\pm b}{2} \\in \\mathbb{N} \\\\\n",
    "  0 & \\text{otherwise}\n",
    "\\end{cases}\n",
    "\\end{align}$"
   ]
  },
  {
   "cell_type": "code",
   "execution_count": null,
   "id": "cce50760",
   "metadata": {},
   "outputs": [],
   "source": []
  }
 ],
 "metadata": {
  "kernelspec": {
   "display_name": "Python 3",
   "language": "python",
   "name": "python3"
  },
  "language_info": {
   "codemirror_mode": {
    "name": "ipython",
    "version": 3
   },
   "file_extension": ".py",
   "mimetype": "text/x-python",
   "name": "python",
   "nbconvert_exporter": "python",
   "pygments_lexer": "ipython3",
   "version": "3.8.8"
  }
 },
 "nbformat": 4,
 "nbformat_minor": 5
}
