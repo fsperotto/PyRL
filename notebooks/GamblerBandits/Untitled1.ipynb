{
 "cells": [
  {
   "cell_type": "markdown",
   "id": "8e6e23be",
   "metadata": {},
   "source": [
    "# First Steps using MAGB library\n",
    "\n",
    "Multiarmed Bandits are composed by:\n",
    "\n",
    "$\\begin{cases}\n",
    "I = \\{1, ..., k\\} & \\text{the set of possible actions (arms)}\\\\\n",
    "R = \\{R_1, ..., R_k\\} & \\text{the set of reward distribution functions}\n",
    "\\end{cases}$"
   ]
  },
  {
   "cell_type": "code",
   "execution_count": null,
   "id": "d7bb6ec0",
   "metadata": {},
   "outputs": [],
   "source": []
  }
 ],
 "metadata": {
  "kernelspec": {
   "display_name": "Python 3",
   "language": "python",
   "name": "python3"
  },
  "language_info": {
   "codemirror_mode": {
    "name": "ipython",
    "version": 3
   },
   "file_extension": ".py",
   "mimetype": "text/x-python",
   "name": "python",
   "nbconvert_exporter": "python",
   "pygments_lexer": "ipython3",
   "version": "3.8.8"
  }
 },
 "nbformat": 4,
 "nbformat_minor": 5
}
