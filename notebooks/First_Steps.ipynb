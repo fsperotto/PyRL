{
 "cells": [
  {
   "cell_type": "code",
   "execution_count": 1,
   "id": "23ba82b1",
   "metadata": {},
   "outputs": [],
   "source": [
    "import pyrl"
   ]
  },
  {
   "cell_type": "code",
   "execution_count": 2,
   "id": "0a9577f9",
   "metadata": {},
   "outputs": [],
   "source": [
    "from pyrl import Agent, Env, Sim"
   ]
  },
  {
   "cell_type": "code",
   "execution_count": 3,
   "id": "da3e6c03",
   "metadata": {},
   "outputs": [],
   "source": [
    "class AgentRandom(Agent):\n",
    "    \n",
    "    def act(self):\n",
    "        self.a = self.action_space.sample()\n",
    "        return self.a\n",
    "    "
   ]
  },
  {
   "cell_type": "code",
   "execution_count": 5,
   "id": "bf784bd6",
   "metadata": {},
   "outputs": [
    {
     "name": "stdout",
     "output_type": "stream",
     "text": [
      "hello\n",
      "hello\n",
      "hello\n",
      "hello\n",
      "hello\n",
      "hello\n",
      "hello\n",
      "hello\n",
      "hello\n",
      "hello\n"
     ]
    }
   ],
   "source": [
    "import gymnasium as gym\n",
    "\n",
    "env = gym.make(\"Taxi-v3\", render_mode=\"ansi\")\n",
    "\n",
    "agent = AgentRandom(env.observation_space, env.action_space)\n",
    "\n",
    "agents= [agent]\n",
    "envs = [env]\n",
    "\n",
    "def episode_finished(agent, env):\n",
    "    print('hello')\n",
    "    \n",
    "sim = Sim(agents, envs, episode_horizon=100, num_episodes=2, num_simulations=5, episode_finished_callback=episode_finished)\n",
    "\n",
    "sim.run()\n",
    "\n",
    "for env in envs:\n",
    "    env.close()"
   ]
  },
  {
   "cell_type": "code",
   "execution_count": null,
   "id": "22dc6468",
   "metadata": {},
   "outputs": [],
   "source": []
  },
  {
   "cell_type": "code",
   "execution_count": null,
   "id": "ebc044b0",
   "metadata": {},
   "outputs": [],
   "source": []
  }
 ],
 "metadata": {
  "kernelspec": {
   "display_name": "Python 3 (ipykernel)",
   "language": "python",
   "name": "python3"
  },
  "language_info": {
   "codemirror_mode": {
    "name": "ipython",
    "version": 3
   },
   "file_extension": ".py",
   "mimetype": "text/x-python",
   "name": "python",
   "nbconvert_exporter": "python",
   "pygments_lexer": "ipython3",
   "version": "3.8.16"
  }
 },
 "nbformat": 4,
 "nbformat_minor": 5
}
