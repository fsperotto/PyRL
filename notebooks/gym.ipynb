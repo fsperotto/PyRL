{
 "cells": [
  {
   "cell_type": "raw",
   "metadata": {},
   "source": [
    "https://avandekleut.github.io/\n",
    "---\n",
    "permalink: /gym/\n",
    "layout: single\n",
    "author_profile: true\n",
    "title: OpenAI Gym and Q-Learning\n",
    "folder: \"gym\"\n",
    "ipynb: \"gym.ipynb\"\n",
    "excerpt: #############################\n",
    "  teaser: /assets/#######################\n",
    "---"
   ]
  },
  {
   "cell_type": "markdown",
   "metadata": {},
   "source": [
    "In this post, we will be making use of the [OpenAI Gym](https://gym.openai.com) API to do reinforcement learning. OpenAI has been a leader in developing state of the art techniques in reinforcement learning, and have also spurred a significant amount of research themselves with the release of OpenAI Gym. \n",
    "\n",
    "In the [previous post](avandekleut.github.io/q-learning/), we implemented Markov decision processes (MDPs) by hand, and showed how to implement $Q$-learning to create a greedy policy that significantly outperforms a random policy. The purpose of that post was to drive home the nitty gritty details of the mathematics of MDPs and policies.\n",
    "\n",
    "However, in reality, the environments that our agents live in are not described with an explicit transition matrix $\\mathcal{P}$. The MDP model is just used as a convenient description for environments where state transitions satisfy the Markov property. MDPs are useful because we can use them to prove that certain policy learning algorithms converge to optimal policies. \n",
    "\n",
    "In the general reinforcement learning paradigm, the agent only has access to the state $s_t$, the corresponding reward $r_t$, and the ability to choose an ation $a_t$. It does not have access to the underlyling state dynamics $\\mathcal{P}$ (usually because environments arent' actually implemented using a state transition matrix)."
   ]
  },
  {
   "cell_type": "markdown",
   "metadata": {},
   "source": [
    "![rl.png](rl.png)"
   ]
  },
  {
   "cell_type": "code",
   "execution_count": 1,
   "metadata": {},
   "outputs": [],
   "source": [
    "import gym\n",
    "import numpy as np; np.random.seed(0)"
   ]
  },
  {
   "cell_type": "markdown",
   "metadata": {},
   "source": [
    "To use OpenAI Gym, you load an environment from a string. A list of environments is available [here](https://gym.openai.com/envs/#classic_control)."
   ]
  },
  {
   "cell_type": "code",
   "execution_count": 12,
   "metadata": {},
   "outputs": [],
   "source": [
    "env = gym.make('FrozenLake-v1') #, render_mode=\"human\")"
   ]
  },
  {
   "cell_type": "markdown",
   "metadata": {},
   "source": [
    "Gym is made to work natively with `numpy` arrays and basic python types. Each `env` (environment) comes with an `action_space` that represents $\\mathcal{A}$ from our MDPs."
   ]
  },
  {
   "cell_type": "code",
   "execution_count": 6,
   "metadata": {},
   "outputs": [
    {
     "name": "stdout",
     "output_type": "stream",
     "text": [
      "Discrete(4)\n"
     ]
    }
   ],
   "source": [
    "print(env.action_space)"
   ]
  },
  {
   "cell_type": "markdown",
   "metadata": {},
   "source": [
    "There are many kinds action spaces available and you can even define your own, but the two basic ones are `Discrete` and `Box`.\n",
    "\n",
    "`Discrete` is exactly as you'd expect: there are a fixed number of actions you can take, and they are enumerated. In the case of the `FrozenLake-v0` environment, there are 4 actions that you can take.\n",
    "\n",
    "`Box` means that the actions that it expects as inputs can be floating-point **tensors**, which means `np.ndarray` of arbitrary dimension. Usually this is just a vector, for example representing torques applied to various joints in a simulated robot."
   ]
  },
  {
   "cell_type": "markdown",
   "metadata": {},
   "source": [
    "Each environment also comes with an `observation_space` that represents $\\mathcal{S}$ from our MDPs."
   ]
  },
  {
   "cell_type": "code",
   "execution_count": 7,
   "metadata": {},
   "outputs": [
    {
     "name": "stdout",
     "output_type": "stream",
     "text": [
      "Discrete(16)\n"
     ]
    }
   ],
   "source": [
    "print(env.observation_space)"
   ]
  },
  {
   "cell_type": "markdown",
   "metadata": {},
   "source": [
    "Like action spaces, there are `Discrete` and `Box` observation spaces.\n",
    "\n",
    "`Discrete` is exactly as you'd expect: there are a fixed number of states that you can be in, enumrated. In the case of the `FrozenLake-v0` environment, there are 16 states you can be in.\n",
    "\n",
    "`Box` means that the observations are floating-point tensors. A common example is when the observations are images, which are represented by 3D tensors."
   ]
  },
  {
   "cell_type": "code",
   "execution_count": 17,
   "metadata": {},
   "outputs": [
    {
     "name": "stdout",
     "output_type": "stream",
     "text": [
      "0 [(0.3333333333333333, 0, 0.0, False), (0.3333333333333333, 0, 0.0, False), (0.3333333333333333, 4, 0.0, False)]\n",
      "1 [(0.3333333333333333, 0, 0.0, False), (0.3333333333333333, 4, 0.0, False), (0.3333333333333333, 1, 0.0, False)]\n",
      "2 [(0.3333333333333333, 4, 0.0, False), (0.3333333333333333, 1, 0.0, False), (0.3333333333333333, 0, 0.0, False)]\n",
      "3 [(0.3333333333333333, 1, 0.0, False), (0.3333333333333333, 0, 0.0, False), (0.3333333333333333, 0, 0.0, False)]\n"
     ]
    }
   ],
   "source": [
    "#transition and reward from state 0, for each action\n",
    "for k, v in env.P[0].items():\n",
    "    print(k, v)"
   ]
  },
  {
   "cell_type": "markdown",
   "metadata": {},
   "source": [
    "To interact with the environment, two steps are required. \n",
    "\n",
    "The first step is to get the initial observation for the environment $s_0$. No action needs to be taken; the initial state is simply drawn from the distribution over initial states $s_0 \\sim p(s_0)$. This is done using `env.reset()`."
   ]
  },
  {
   "cell_type": "code",
   "execution_count": 5,
   "metadata": {},
   "outputs": [
    {
     "data": {
      "text/plain": [
       "0"
      ]
     },
     "execution_count": 5,
     "metadata": {},
     "output_type": "execute_result"
    }
   ],
   "source": [
    "s_0 = env.reset()\n",
    "s_0"
   ]
  },
  {
   "cell_type": "markdown",
   "metadata": {},
   "source": [
    "Since the observation space is `Discrete`, an initial observation of 0 makes sense, since states are just enumerated.\n",
    "\n",
    "Essentially all environments provided through Gym are episodic, meaning that eventually any trajectory will end. This can happen for a few reasons:"
   ]
  },
  {
   "cell_type": "markdown",
   "metadata": {},
   "source": [
    "1. The pre-determined maximum number of timesteps $T$ has been reached.\n",
    "2. The agent has reached some \"goal\" state or accomplished the task described by the MDP.\n",
    "3. The agent has reached some \"dead\" state or failed the task described by the MDP.\n",
    "\n",
    "We can actually consider all MDPs to be continuing (rather than episodic). We have some \"terminal state\" $s_T$ where the agent ends up, and any action simply returns them to the same state $s_T$ and provides a reward of $0$. This view of MDPs preserves the way that the return $R_t$ and discounted return $G_t$ are calculated. If we view all MDPs as continuing, then the cases above can all be considered \"terminal\" states."
   ]
  },
  {
   "cell_type": "markdown",
   "metadata": {},
   "source": [
    "The OpenAI Gym interface uses this definition of MDPs. When an agent is in a state $s_t$ and selects an action $a_t$, the environment provides the reward $r_t$ and next state $s_{t+1}$, as well as a done flag $d_t$. If we treat $d_t=1$ to mean \"the state $s_{t+1}$ is a terminal state\", then we can modify the $Q$-learning algorithm as follows:\n",
    "\n",
    "$$\n",
    "Q(s_t, a_t) \\gets (1-\\alpha)Q(s_t, a_t) + \\alpha \\left( r_t + (1-d_t) \\gamma \\max_{a_{t+1}} Q(s_{t+1}, a_{t+1}) \\right)\n",
    "$$"
   ]
  },
  {
   "cell_type": "markdown",
   "metadata": {},
   "source": [
    "Adding the $(1 - d_t)$ term implies that the discounted return $G_t$ is just going to be $r_t$, since all rewards after that are going to be 0. In some situations this can help accelerate learning."
   ]
  },
  {
   "cell_type": "markdown",
   "metadata": {},
   "source": [
    "When the agent reaches a terminal state, the environment needs to be `reset` to bring the agent back to some initial state $s_0$."
   ]
  },
  {
   "cell_type": "markdown",
   "metadata": {},
   "source": [
    "As alluded to above, the second step to interacting with the environment is to select actions $a_t$ to produce rewards $r_t$ and next states $s_{t+1}$ and terminal flags $d_t$. To do this, we use the `env.step` method."
   ]
  },
  {
   "cell_type": "code",
   "execution_count": 6,
   "metadata": {},
   "outputs": [],
   "source": [
    "a_t = env.action_space.sample() \n",
    "s_t_next, r_t, d_t, info = env.step(a_t)"
   ]
  },
  {
   "cell_type": "markdown",
   "metadata": {},
   "source": [
    "It also returns `info` which supplies information that might not be readily available through the other three return parameters. It is usually ignored."
   ]
  },
  {
   "cell_type": "code",
   "execution_count": 7,
   "metadata": {},
   "outputs": [
    {
     "data": {
      "text/plain": [
       "0"
      ]
     },
     "execution_count": 7,
     "metadata": {},
     "output_type": "execute_result"
    }
   ],
   "source": [
    "s_t_next"
   ]
  },
  {
   "cell_type": "code",
   "execution_count": 8,
   "metadata": {},
   "outputs": [
    {
     "data": {
      "text/plain": [
       "0.0"
      ]
     },
     "execution_count": 8,
     "metadata": {},
     "output_type": "execute_result"
    }
   ],
   "source": [
    "r_t"
   ]
  },
  {
   "cell_type": "code",
   "execution_count": 9,
   "metadata": {},
   "outputs": [
    {
     "data": {
      "text/plain": [
       "False"
      ]
     },
     "execution_count": 9,
     "metadata": {},
     "output_type": "execute_result"
    }
   ],
   "source": [
    "d_t"
   ]
  },
  {
   "cell_type": "code",
   "execution_count": 10,
   "metadata": {},
   "outputs": [
    {
     "data": {
      "text/plain": [
       "{'prob': 0.3333333333333333}"
      ]
     },
     "execution_count": 10,
     "metadata": {},
     "output_type": "execute_result"
    }
   ],
   "source": [
    "info"
   ]
  },
  {
   "cell_type": "markdown",
   "metadata": {},
   "source": [
    "Here's an example of a basic loop for using Gym:"
   ]
  },
  {
   "cell_type": "code",
   "execution_count": 11,
   "metadata": {},
   "outputs": [],
   "source": [
    "env = gym.make('FrozenLake-v0')\n",
    "s_t = env.reset()\n",
    "for t in range(1000):\n",
    "    # no policy defined, just randomly sample actions\n",
    "    a_t = env.action_space.sample()\n",
    "    s_t, r_t, d_t, _ = env.step(a_t)\n",
    "    if d_t:\n",
    "        s_t = env.reset()"
   ]
  },
  {
   "cell_type": "markdown",
   "metadata": {},
   "source": [
    "We can visualize what's happening in the environment by calling the `env.render` method. For this environment, the output is a text representation of the `FrozenLake` maze, but for more complex environments usually a rendering of the environment will be displayed."
   ]
  },
  {
   "cell_type": "code",
   "execution_count": 12,
   "metadata": {},
   "outputs": [
    {
     "name": "stdout",
     "output_type": "stream",
     "text": [
      "  (Right)\n",
      "\u001b[41mS\u001b[0mFFF\n",
      "FHFH\n",
      "FFFH\n",
      "HFFG\n"
     ]
    }
   ],
   "source": [
    "env.render()"
   ]
  },
  {
   "cell_type": "code",
   "execution_count": 13,
   "metadata": {},
   "outputs": [
    {
     "name": "stdout",
     "output_type": "stream",
     "text": [
      "  (Up)\n",
      "S\u001b[41mF\u001b[0mFF\n",
      "FHFH\n",
      "FFFH\n",
      "HFFG\n"
     ]
    }
   ],
   "source": [
    "env.step(env.action_space.sample())\n",
    "env.render()"
   ]
  },
  {
   "cell_type": "markdown",
   "metadata": {},
   "source": [
    "The `FrozenLake-v0` environment has both a small discrete action space and small discrete state-space. Let's use our $Q$-learning algorithm from the [previous post](avandekleut.github.io/q-learning/) to learn an optimal policy.\n",
    "\n",
    "We are also going to add an extra bit to our algorithm by following an **$\\epsilon$-greedy** policy. We use a parameter $\\epsilon$ that determines the probability of choosing a random action versus choosing an action following the greedy policy. This can help with exploration. since at the very beginning our estimates for $Q$ are likely very wrong."
   ]
  },
  {
   "cell_type": "markdown",
   "metadata": {},
   "source": [
    "This is a good time to talk about the difference between **on-policy** algorithms and **off-policy** algorithms. \n",
    "\n",
    "**On-policy** algorithms require that **the data used to train the policy must be generated by the policy itself**. \n",
    "\n",
    "**Off-policy** algorithms can use data generated by any policy.\n",
    "\n",
    "$Q$-learning is an off-policy algorithm. Any transition $s_t, a_t, r_t, s_{t+1}$ can be used to train the policy (i.e., to learn $Q$). Data could be collected by a random policy for all we care.\n",
    "\n",
    "The only reason that we often use the policy itself to collect data for $Q$-learning is that by following a good policy, we can get into states that might be hard to reach using a bad (random) policy."
   ]
  },
  {
   "cell_type": "markdown",
   "metadata": {},
   "source": [
    "We implement a $Q$ learner class below that relies on the OpenAI Gym interface."
   ]
  },
  {
   "cell_type": "code",
   "execution_count": 14,
   "metadata": {},
   "outputs": [],
   "source": [
    "class QLearner:\n",
    "    def __init__(self, env, epsilon, alpha, gamma):\n",
    "        self.N = env.observation_space.n\n",
    "        self.M = env.action_space.n\n",
    "        self.Q = np.zeros((self.N, self.M))\n",
    "        self.epsilon = epsilon\n",
    "        self.t = 0\n",
    "        self.alpha = alpha\n",
    "        self.gamma = gamma\n",
    "        \n",
    "    def act(self, s_t):\n",
    "        self.t += 1\n",
    "        if np.random.rand() < self.epsilon:\n",
    "            return np.random.choice(self.M)\n",
    "        else:\n",
    "            return np.argmax(self.Q[s_t])\n",
    "        \n",
    "    def learn(self, s_t, a_t, r_t, s_t_next, d_t):\n",
    "        a_t_next = np.argmax(self.Q[s_t_next])\n",
    "        Q_target = r_t + self.gamma*(1-d_t)*self.Q[s_t_next, a_t_next]\n",
    "        self.Q[s_t, a_t] = (1-self.alpha)*self.Q[s_t, a_t] + self.alpha*(Q_target)"
   ]
  },
  {
   "cell_type": "markdown",
   "metadata": {},
   "source": [
    "If anything in the `QLearner` class seems unfamiliar, revisit the previous post."
   ]
  },
  {
   "cell_type": "markdown",
   "metadata": {},
   "source": [
    "Let's run a small training loop using an instance of `QLearner`."
   ]
  },
  {
   "cell_type": "code",
   "execution_count": 15,
   "metadata": {},
   "outputs": [],
   "source": [
    "def train(env, ql, T=1000000):\n",
    "    '''\n",
    "    env (gym.Env): environment\n",
    "    T (int): number of learning steps\n",
    "    '''\n",
    "    s_t = env.reset()\n",
    "    for t in range(T):\n",
    "        a_t = ql.act(s_t)\n",
    "        s_t_next, r_t, d_t, _ = env.step(a_t)\n",
    "        ql.learn(s_t, a_t, r_t, s_t_next, d_t)\n",
    "        s_t = s_t_next\n",
    "        if d_t:\n",
    "            s_t = env.reset()\n",
    "    return ql"
   ]
  },
  {
   "cell_type": "code",
   "execution_count": 16,
   "metadata": {
    "scrolled": true
   },
   "outputs": [],
   "source": [
    "env = gym.make('FrozenLake-v0')\n",
    "env.seed(0)\n",
    "ql = QLearner(env, epsilon=0.2, gamma=0.99, alpha=0.1)\n",
    "ql = train(env, ql)"
   ]
  },
  {
   "cell_type": "markdown",
   "metadata": {},
   "source": [
    "We can run a similar loop to test out the performance of the algorithm. We switch to a purely greedy policy during testing."
   ]
  },
  {
   "cell_type": "code",
   "execution_count": 17,
   "metadata": {},
   "outputs": [],
   "source": [
    "def test(env, policy, T=10000):\n",
    "    '''\n",
    "    env (gym.Env): environment\n",
    "    policy (callable): the policy to use\n",
    "    T (int): number of learning steps\n",
    "    '''\n",
    "    policy.epsilon = 0\n",
    "    scores = []\n",
    "    s_t = env.reset()\n",
    "    for t in range(T):\n",
    "        a_t = policy.act(s_t)\n",
    "        s_t, r_t, d_t, _ = env.step(a_t)\n",
    "        if d_t:\n",
    "            scores.append(r_t)\n",
    "            env.reset()\n",
    "    return sum(scores)/len(scores)"
   ]
  },
  {
   "cell_type": "code",
   "execution_count": 18,
   "metadata": {},
   "outputs": [
    {
     "data": {
      "text/plain": [
       "0.7889908256880734"
      ]
     },
     "execution_count": 18,
     "metadata": {},
     "output_type": "execute_result"
    }
   ],
   "source": [
    "test(env, ql)"
   ]
  },
  {
   "cell_type": "markdown",
   "metadata": {},
   "source": [
    "Let's compare this to a random policy:"
   ]
  },
  {
   "cell_type": "code",
   "execution_count": 19,
   "metadata": {},
   "outputs": [],
   "source": [
    "class RandomPolicy:\n",
    "    def __init__(self, env):\n",
    "        self.N = env.action_space.n\n",
    "    \n",
    "    def act(self, s_t):\n",
    "        return np.random.choice(self.N)"
   ]
  },
  {
   "cell_type": "code",
   "execution_count": 20,
   "metadata": {},
   "outputs": [
    {
     "data": {
      "text/plain": [
       "0.01753048780487805"
      ]
     },
     "execution_count": 20,
     "metadata": {},
     "output_type": "execute_result"
    }
   ],
   "source": [
    "rp = RandomPolicy(env)\n",
    "test(env, rp)"
   ]
  },
  {
   "cell_type": "markdown",
   "metadata": {},
   "source": [
    "We can see that the $Q$-learning algorithm significantly outperforms the random policy.\n",
    "\n",
    "We can also take a look into what the agent has learned:"
   ]
  },
  {
   "cell_type": "code",
   "execution_count": 21,
   "metadata": {},
   "outputs": [
    {
     "data": {
      "text/plain": [
       "array([[0.57617712, 0.55583545, 0.54581116, 0.54775153],\n",
       "       [0.2990091 , 0.37494937, 0.27208237, 0.52605537],\n",
       "       [0.45183278, 0.43186818, 0.42052267, 0.46940612],\n",
       "       [0.30306281, 0.32566571, 0.28188562, 0.4418104 ],\n",
       "       [0.60072092, 0.33393605, 0.43804114, 0.33343835],\n",
       "       [0.        , 0.        , 0.        , 0.        ],\n",
       "       [0.3182098 , 0.12357659, 0.37948305, 0.11759624],\n",
       "       [0.        , 0.        , 0.        , 0.        ],\n",
       "       [0.44422165, 0.44398877, 0.58197738, 0.64138795],\n",
       "       [0.56747524, 0.68729516, 0.42164102, 0.5584325 ],\n",
       "       [0.65534316, 0.3897545 , 0.35962185, 0.39538081],\n",
       "       [0.        , 0.        , 0.        , 0.        ],\n",
       "       [0.        , 0.        , 0.        , 0.        ],\n",
       "       [0.3849224 , 0.68670132, 0.72970373, 0.46354652],\n",
       "       [0.76026213, 0.88506535, 0.82057152, 0.79343588],\n",
       "       [0.        , 0.        , 0.        , 0.        ]])"
      ]
     },
     "execution_count": 21,
     "metadata": {},
     "output_type": "execute_result"
    }
   ],
   "source": [
    "ql.Q"
   ]
  },
  {
   "cell_type": "markdown",
   "metadata": {},
   "source": [
    "Some rows are 0 because those rows correspond to states that are terminal and provide no reward. There are \"holes\" in the maze that the agent can fall through, terminating the environment."
   ]
  },
  {
   "cell_type": "markdown",
   "metadata": {},
   "source": [
    "We can use `env.unwrapped` to get under the hood of an `env`, though the attributes of the unwrapped environment are not in any way standardized and should only be used for getting a better understanding, and never for learning."
   ]
  },
  {
   "cell_type": "markdown",
   "metadata": {},
   "source": [
    "Let's look at row 13 from the $Q$ table:"
   ]
  },
  {
   "cell_type": "code",
   "execution_count": 22,
   "metadata": {},
   "outputs": [
    {
     "data": {
      "text/plain": [
       "array([0.3849224 , 0.68670132, 0.72970373, 0.46354652])"
      ]
     },
     "execution_count": 22,
     "metadata": {},
     "output_type": "execute_result"
    }
   ],
   "source": [
    "ql.Q[13]"
   ]
  },
  {
   "cell_type": "markdown",
   "metadata": {},
   "source": [
    "It looks like choosing action 0 is considered poor. Why might that be? Let's force the environment into state 13 and see where that is."
   ]
  },
  {
   "cell_type": "code",
   "execution_count": 23,
   "metadata": {},
   "outputs": [
    {
     "name": "stdout",
     "output_type": "stream",
     "text": [
      "  (Left)\n",
      "SFFF\n",
      "FHFH\n",
      "FFFH\n",
      "H\u001b[41mF\u001b[0mFG\n"
     ]
    }
   ],
   "source": [
    "env.unwrapped.s = 13\n",
    "env.render()"
   ]
  },
  {
   "cell_type": "markdown",
   "metadata": {},
   "source": [
    "Action 0 corresponds to going left. In this case, we would move into a hole (H). The only reason that the predicted $Q$ valued for $Q(15, 0)$ is not 0 is that the environment is 'slippery': sometimes when you choose an action, you move as if you had chosen a different action."
   ]
  },
  {
   "cell_type": "markdown",
   "metadata": {},
   "source": [
    "I hope that you enjoyed this post. Feel free to download the [notebook]() and run your own experiments!"
   ]
  }
 ],
 "metadata": {
  "kernelspec": {
   "display_name": "Python 3",
   "language": "python",
   "name": "python3"
  },
  "language_info": {
   "codemirror_mode": {
    "name": "ipython",
    "version": 3
   },
   "file_extension": ".py",
   "mimetype": "text/x-python",
   "name": "python",
   "nbconvert_exporter": "python",
   "pygments_lexer": "ipython3",
   "version": "3.8.8"
  }
 },
 "nbformat": 4,
 "nbformat_minor": 4
}
