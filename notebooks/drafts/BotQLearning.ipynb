{
 "cells": [
  {
   "cell_type": "markdown",
   "id": "27ea58ce",
   "metadata": {},
   "source": [
    "# Moving Box Problem"
   ]
  },
  {
   "cell_type": "code",
   "execution_count": 1,
   "id": "f8daa82b",
   "metadata": {},
   "outputs": [],
   "source": [
    "from mdp import *\n",
    "from moving_box import *"
   ]
  },
  {
   "cell_type": "code",
   "execution_count": 2,
   "id": "45586dd0",
   "metadata": {},
   "outputs": [
    {
     "name": "stdout",
     "output_type": "stream",
     "text": [
      "[[0 1 0 1]\n",
      " [2 3 2 3]\n",
      " [0 0 2 2]\n",
      " [1 1 3 3]]\n",
      "[[  0.           0.           0.          -0.29984565]\n",
      " [  0.           0.29984565   0.           0.        ]\n",
      " [  0.          37.62035372   0.           0.        ]\n",
      " [-37.62035372   0.           0.           0.        ]]\n"
     ]
    }
   ],
   "source": [
    "#env = MovingBoxProblem(art_num_states=[20, 20])\n",
    "#env = MovingBoxProblem(art_sizes=[80, 40, 120], art_num_states=[9, 19, 3], art_angle_limits=[[-30,+30], [-150,0], [-100,+100]])\n",
    "#env = MovingBoxProblem(body_height=40, body_width=10)\n",
    "env = MovingBoxProblem(art_num_states=[2, 2])\n",
    "\n",
    "P = env.getTransitionModel()\n",
    "print(P)\n",
    "\n",
    "R = env.getRewardModel()\n",
    "print(R)"
   ]
  },
  {
   "cell_type": "code",
   "execution_count": 3,
   "id": "94908401",
   "metadata": {},
   "outputs": [
    {
     "name": "stdout",
     "output_type": "stream",
     "text": [
      "policy iterations: 5 ; evaluate iterations: 5\n",
      "[1 2 3 0]\n"
     ]
    }
   ],
   "source": [
    "agent = PolicyIterationAgent(env)\n",
    "print(agent.policy)"
   ]
  },
  {
   "cell_type": "code",
   "execution_count": 4,
   "id": "f9381fa8",
   "metadata": {
    "scrolled": false
   },
   "outputs": [],
   "source": [
    "# object of class Tk, responsible for creating a tkinter toplevel window\n",
    "viewer = MovingBoxViewer(problem=env, agent=agent)\n"
   ]
  },
  {
   "cell_type": "code",
   "execution_count": 5,
   "id": "07c9d1b8",
   "metadata": {},
   "outputs": [],
   "source": [
    "env.reset()\n",
    "agent = RandomAgent(env)\n",
    "viewer = MovingBoxViewer(problem=env, agent=agent)"
   ]
  },
  {
   "cell_type": "code",
   "execution_count": 10,
   "id": "76cad572",
   "metadata": {},
   "outputs": [],
   "source": [
    "env.reset()\n",
    "agent = QLearningAgent(env, epsilon=0.1, alpha=0.1)\n",
    "\n",
    "for _ in range(1000000):\n",
    "    agent.act()\n",
    "agent.epsilon = 0\n",
    "\n",
    "viewer = MovingBoxViewer(problem=env, agent=agent)"
   ]
  },
  {
   "cell_type": "code",
   "execution_count": 12,
   "id": "1603cc1d",
   "metadata": {
    "scrolled": false
   },
   "outputs": [
    {
     "name": "stdout",
     "output_type": "stream",
     "text": [
      "[[ 1.29  1.38 -3.79 -4.26]\n",
      " [16.32 13.95 10.72  1.5 ]\n",
      " [ 1.37  1.38  1.38  0.  ]\n",
      " [16.29  9.47  6.39  0.  ]]\n",
      "[1 0 1 0]\n",
      "[[1, 0], [-1, 0], [1, 0], [-1, 0]]\n"
     ]
    },
    {
     "ename": "AttributeError",
     "evalue": "'QLearningAgent' object has no attribute 'policy'",
     "output_type": "error",
     "traceback": [
      "\u001b[1;31m---------------------------------------------------------------------------\u001b[0m",
      "\u001b[1;31mAttributeError\u001b[0m                            Traceback (most recent call last)",
      "\u001b[1;32m<ipython-input-12-7269ff7a7969>\u001b[0m in \u001b[0;36m<module>\u001b[1;34m\u001b[0m\n\u001b[0;32m      2\u001b[0m \u001b[0mprint\u001b[0m\u001b[1;33m(\u001b[0m\u001b[0mnp\u001b[0m\u001b[1;33m.\u001b[0m\u001b[0margmax\u001b[0m\u001b[1;33m(\u001b[0m\u001b[0magent\u001b[0m\u001b[1;33m.\u001b[0m\u001b[0mq_values\u001b[0m\u001b[1;33m[\u001b[0m\u001b[1;33m:\u001b[0m\u001b[1;33m]\u001b[0m\u001b[1;33m,\u001b[0m \u001b[0maxis\u001b[0m\u001b[1;33m=\u001b[0m\u001b[1;36m1\u001b[0m\u001b[1;33m)\u001b[0m\u001b[1;33m)\u001b[0m\u001b[1;33m\u001b[0m\u001b[1;33m\u001b[0m\u001b[0m\n\u001b[0;32m      3\u001b[0m \u001b[0mprint\u001b[0m\u001b[1;33m(\u001b[0m\u001b[1;33m[\u001b[0m\u001b[0menv\u001b[0m\u001b[1;33m.\u001b[0m\u001b[0mto_art_action\u001b[0m\u001b[1;33m(\u001b[0m\u001b[0mv\u001b[0m\u001b[1;33m)\u001b[0m \u001b[1;32mfor\u001b[0m \u001b[0mv\u001b[0m \u001b[1;32min\u001b[0m \u001b[0mnp\u001b[0m\u001b[1;33m.\u001b[0m\u001b[0margmax\u001b[0m\u001b[1;33m(\u001b[0m\u001b[0magent\u001b[0m\u001b[1;33m.\u001b[0m\u001b[0mq_values\u001b[0m\u001b[1;33m[\u001b[0m\u001b[1;33m:\u001b[0m\u001b[1;33m]\u001b[0m\u001b[1;33m,\u001b[0m \u001b[0maxis\u001b[0m\u001b[1;33m=\u001b[0m\u001b[1;36m1\u001b[0m\u001b[1;33m)\u001b[0m\u001b[1;33m]\u001b[0m\u001b[1;33m)\u001b[0m\u001b[1;33m\u001b[0m\u001b[1;33m\u001b[0m\u001b[0m\n\u001b[1;32m----> 4\u001b[1;33m \u001b[0mprint\u001b[0m\u001b[1;33m(\u001b[0m\u001b[0magent\u001b[0m\u001b[1;33m.\u001b[0m\u001b[0mpolicy\u001b[0m\u001b[1;33m)\u001b[0m\u001b[1;33m\u001b[0m\u001b[1;33m\u001b[0m\u001b[0m\n\u001b[0m",
      "\u001b[1;31mAttributeError\u001b[0m: 'QLearningAgent' object has no attribute 'policy'"
     ]
    }
   ],
   "source": [
    "print(np.round(agent.q_values[:], 2))\n",
    "print(np.argmax(agent.q_values[:], axis=1))\n",
    "print([env.to_art_action(v) for v in np.argmax(agent.q_values[:], axis=1)])\n",
    "print(agent.policy)"
   ]
  },
  {
   "cell_type": "code",
   "execution_count": null,
   "id": "7c787694",
   "metadata": {},
   "outputs": [],
   "source": []
  }
 ],
 "metadata": {
  "kernelspec": {
   "display_name": "Python 3",
   "language": "python",
   "name": "python3"
  },
  "language_info": {
   "codemirror_mode": {
    "name": "ipython",
    "version": 3
   },
   "file_extension": ".py",
   "mimetype": "text/x-python",
   "name": "python",
   "nbconvert_exporter": "python",
   "pygments_lexer": "ipython3",
   "version": "3.8.8"
  }
 },
 "nbformat": 4,
 "nbformat_minor": 5
}
