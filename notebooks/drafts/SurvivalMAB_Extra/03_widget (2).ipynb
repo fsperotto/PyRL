{
 "cells": [
  {
   "cell_type": "markdown",
   "metadata": {},
   "source": [
    "# MABSim and SMPyBandits\n",
    "\n",
    "## Using the widget\n",
    "\n",
    "In this notebook, we use SMPyBandits as the base library for MAB implementartion."
   ]
  },
  {
   "cell_type": "code",
   "execution_count": 1,
   "metadata": {
    "scrolled": false
   },
   "outputs": [
    {
     "name": "stdout",
     "output_type": "stream",
     "text": [
      "Warning: numba.jit seems to not be available. Using a dummy decorator for numba.jit() ...\n",
      "If you want the speed up brought by numba.jit, try to manually install numba and check that it works (installing llvmlite can be tricky, cf. https://github.com/numba/numba#custom-python-environments\n",
      "Info: Using the Jupyter notebook version of the tqdm() decorator, tqdm_notebook() ...\n",
      "ERROR: 'resource' module not available, but it is in the standard library.\n",
      "Have you messed up your Python installation?\n",
      "Are you on Windows? In this case, it's okay.\n",
      "Please submit a new bug on https://github.com/SMPyBandits/SMPyBandits/issues/new\n",
      "Warning: numba.jit seems to not be available. Using a dummy decorator for numba.jit() ...\n",
      "If you want the speed up brought by numba.jit, try to manually install numba and check that it works (installing llvmlite can be tricky, cf. https://github.com/numba/numba#custom-python-environments\n"
     ]
    }
   ],
   "source": [
    "# Dépendances\n",
    "import numpy as np\n",
    "\n",
    "import matplotlib.pyplot as plt\n",
    "%matplotlib inline\n",
    "\n",
    "#Arms\n",
    "from SMPyBandits.Arms import Bernoulli, Gaussian, Constant\n",
    "\n",
    "#Policies\n",
    "from SMPyBandits.Policies import Uniform, EmpiricalMeans, EpsilonGreedy, UCBalpha, klUCB, Thompson, SoftMix\n",
    "\n",
    "#Sim\n",
    "from mabsim import mabs, create_widget"
   ]
  },
  {
   "cell_type": "code",
   "execution_count": 2,
   "metadata": {},
   "outputs": [
    {
     "data": {
      "application/vnd.jupyter.widget-view+json": {
       "model_id": "d28f9de6b4a7435c999fd435c0ccf84d",
       "version_major": 2,
       "version_minor": 0
      },
      "text/plain": [
       "interactive(children=(Dropdown(description='g', options=(<SMPyBandits.Policies.EpsilonGreedy.EpsilonGreedy obj…"
      ]
     },
     "metadata": {},
     "output_type": "display_data"
    }
   ],
   "source": [
    "#default figure size\n",
    "plt.rcParams['figure.figsize'] = (10, 5)\n",
    "\n",
    "#MAB parameters\n",
    "means = np.array([0.1, 0.7, 0.8, 0.9, 0.92])\n",
    "k = len(means)\n",
    "\n",
    "#arms objects\n",
    "A = [Bernoulli(m) for m in means]\n",
    "\n",
    "#time-horizon\n",
    "tau = 100\n",
    "\n",
    "#algorithms\n",
    "G = [EpsilonGreedy(k, epsilon=0.1), SoftMix(k), EmpiricalMeans(k),\n",
    "     UCBalpha(k, alpha=4), UCBalpha(k, alpha=1), UCBalpha(k, alpha=0.5),\n",
    "     klUCB(k), Thompson(k)]\n",
    "\n",
    "#create widget\n",
    "widget = create_widget(A, G)\n",
    "\n",
    "#show widget\n",
    "display(widget)"
   ]
  },
  {
   "cell_type": "code",
   "execution_count": 3,
   "metadata": {
    "scrolled": false
   },
   "outputs": [
    {
     "ename": "AttributeError",
     "evalue": "'mabs' object has no attribute 'plot_history'",
     "output_type": "error",
     "traceback": [
      "\u001b[1;31m---------------------------------------------------------------------------\u001b[0m",
      "\u001b[1;31mAttributeError\u001b[0m                            Traceback (most recent call last)",
      "\u001b[1;32m<ipython-input-3-2b3e99006a71>\u001b[0m in \u001b[0;36m<module>\u001b[1;34m\u001b[0m\n\u001b[0;32m      1\u001b[0m \u001b[0mM\u001b[0m \u001b[1;33m=\u001b[0m \u001b[0mwidget\u001b[0m\u001b[1;33m.\u001b[0m\u001b[0mresult\u001b[0m\u001b[1;33m\u001b[0m\u001b[1;33m\u001b[0m\u001b[0m\n\u001b[0;32m      2\u001b[0m \u001b[1;33m\u001b[0m\u001b[0m\n\u001b[1;32m----> 3\u001b[1;33m \u001b[0mM\u001b[0m\u001b[1;33m.\u001b[0m\u001b[0mplot_history\u001b[0m\u001b[1;33m(\u001b[0m\u001b[1;33m)\u001b[0m\u001b[1;33m\u001b[0m\u001b[1;33m\u001b[0m\u001b[0m\n\u001b[0m\u001b[0;32m      4\u001b[0m \u001b[0mM\u001b[0m\u001b[1;33m.\u001b[0m\u001b[0mplot_action_count_progression\u001b[0m\u001b[1;33m(\u001b[0m\u001b[1;33m)\u001b[0m\u001b[1;33m\u001b[0m\u001b[1;33m\u001b[0m\u001b[0m\n\u001b[0;32m      5\u001b[0m \u001b[0mM\u001b[0m\u001b[1;33m.\u001b[0m\u001b[0mplot_action_freq_progression\u001b[0m\u001b[1;33m(\u001b[0m\u001b[1;33m)\u001b[0m\u001b[1;33m\u001b[0m\u001b[1;33m\u001b[0m\u001b[0m\n",
      "\u001b[1;31mAttributeError\u001b[0m: 'mabs' object has no attribute 'plot_history'"
     ]
    }
   ],
   "source": [
    "M = widget.result\n",
    "\n",
    "M.plot_history()\n",
    "M.plot_action_count_progression()\n",
    "M.plot_action_freq_progression()\n",
    "M.plot_action_window_freq_spectrum()\n",
    "M.plot_precision_progression()\n",
    "\n",
    "M.plot_comp_arm_count()\n",
    "M.plot_comp_arm_rewards()\n",
    "M.plot_comp_freq_prop()\n",
    "\n",
    "M.plot_cumulated_reward_progression()\n",
    "M.plot_average_reward_progression()\n",
    "M.plot_cumulated_regret_progression()\n",
    "M.plot_reward_regret()"
   ]
  },
  {
   "cell_type": "code",
   "execution_count": null,
   "metadata": {},
   "outputs": [],
   "source": []
  }
 ],
 "metadata": {
  "kernelspec": {
   "display_name": "Python 3",
   "language": "python",
   "name": "python3"
  },
  "language_info": {
   "codemirror_mode": {
    "name": "ipython",
    "version": 3
   },
   "file_extension": ".py",
   "mimetype": "text/x-python",
   "name": "python",
   "nbconvert_exporter": "python",
   "pygments_lexer": "ipython3",
   "version": "3.8.8"
  },
  "toc": {
   "base_numbering": 1,
   "nav_menu": {},
   "number_sections": false,
   "sideBar": false,
   "skip_h1_title": false,
   "title_cell": "Table of Contents",
   "title_sidebar": "Contents",
   "toc_cell": false,
   "toc_position": {},
   "toc_section_display": false,
   "toc_window_display": false
  }
 },
 "nbformat": 4,
 "nbformat_minor": 2
}
