{
 "cells": [
  {
   "cell_type": "markdown",
   "id": "d822757c",
   "metadata": {},
   "source": [
    "# Online Mean and Variance\n",
    "\n",
    "sources:\n",
    "\n",
    "- https://datagenetics.com/blog/november22017/index.html\n",
    "\n",
    "- https://en.wikipedia.org/wiki/Algorithms_for_calculating_variance\n",
    "\n",
    "- https://natural-blogarithm.com/post/variance-welford-vs-numpy/\n",
    "\n"
   ]
  },
  {
   "cell_type": "code",
   "execution_count": 1,
   "id": "f65c7aaa",
   "metadata": {},
   "outputs": [
    {
     "name": "stdout",
     "output_type": "stream",
     "text": [
      "index : [1 2 3 4 5 6]\n",
      "data :  [1 3 2 2 4 0]\n",
      "Progressive Mean (numpy direct) :       [1.  2.  2.  2.  2.4 2. ]\n",
      "Cumulative Sum (numpy direct) :         [ 1  4  6  8 12 12]\n",
      "Progressive Mean (from numpy cumsum) :  [1.  2.  2.  2.  2.4 2. ]\n",
      "Progressive Mean (online wolfram) :     [1.  2.  2.  2.  2.4 2. ]\n",
      "Progressive Variance (numpy direct) :   [0.         1.         0.66666667 0.5        1.04       1.66666667]\n",
      "Squared Cumulative Sum (numpy):         [ 1 10 14 18 34 34]\n",
      "Progressive Variance (numpy sqs) :      [0.         1.         0.66666667 0.5        1.04       1.66666667]\n",
      "Progressive Variance (online) :         [0.         1.         0.66666667 0.5        1.04       1.66666667]\n"
     ]
    }
   ],
   "source": [
    "import numpy as np\n",
    "\n",
    "X = np.random.rand(5)\n",
    "X = np.array([1,3,2,2,4,0])\n",
    "k = len(X)\n",
    "N = np.array(range(1,k+1))\n",
    "print('index :', N)\n",
    "print('data : ', X)\n",
    "\n",
    "avg_X = np.array([np.mean(X[:i]) for i in range(1, k+1)])\n",
    "print('Progressive Mean (numpy direct) :      ', avg_X)\n",
    "\n",
    "sum_X = np.cumsum(X) \n",
    "\n",
    "print('Cumulative Sum (numpy direct) :        ', sum_X)\n",
    "avg_X = sum_X / N\n",
    "print('Progressive Mean (from numpy cumsum) : ', avg_X)\n",
    "\n",
    "avg_X = np.zeros(k)\n",
    "avg_X[0] = X[0]\n",
    "for i in range(1, k):\n",
    "    #n = i+1\n",
    "    avg_X[i] = avg_X[i-1] + ((X[i] - avg_X[i-1]) / (i+1) )\n",
    "print('Progressive Mean (online wolfram) :    ', avg_X)\n",
    "\n",
    "var_X = np.array([np.var(X[:i]) for i in range(1, k+1)])\n",
    "print('Progressive Variance (numpy direct) :  ', var_X)\n",
    "\n",
    "sqs_X = np.cumsum(X**2) \n",
    "print('Squared Cumulative Sum (numpy):        ', sqs_X)\n",
    "\n",
    "var_X = (sqs_X / N) - (avg_X ** 2)\n",
    "print('Progressive Variance (numpy sqs) :     ', var_X)\n",
    "\n",
    "var_X = np.zeros(k)\n",
    "for i in range(1, k):\n",
    "    #n = i+1\n",
    "    var_X[i] = ( var_X[i-1]*i + (X[i]-avg_X[i-1])*(X[i]-avg_X[i]) )  /  (i+1)\n",
    "print('Progressive Variance (online) :        ', var_X)"
   ]
  },
  {
   "cell_type": "code",
   "execution_count": null,
   "id": "438b7251",
   "metadata": {},
   "outputs": [],
   "source": []
  }
 ],
 "metadata": {
  "kernelspec": {
   "display_name": "Python 3",
   "language": "python",
   "name": "python3"
  },
  "language_info": {
   "codemirror_mode": {
    "name": "ipython",
    "version": 3
   },
   "file_extension": ".py",
   "mimetype": "text/x-python",
   "name": "python",
   "nbconvert_exporter": "python",
   "pygments_lexer": "ipython3",
   "version": "3.8.8"
  }
 },
 "nbformat": 4,
 "nbformat_minor": 5
}
