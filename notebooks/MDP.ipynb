{
 "cells": [
  {
   "cell_type": "markdown",
   "id": "72d0a48b",
   "metadata": {},
   "source": [
    "# MDP"
   ]
  },
  {
   "cell_type": "code",
   "execution_count": 5,
   "id": "0b514d2c",
   "metadata": {},
   "outputs": [],
   "source": [
    "from mdp import *\n",
    "import mdptoolbox"
   ]
  },
  {
   "cell_type": "code",
   "execution_count": 6,
   "id": "a0b7209e",
   "metadata": {},
   "outputs": [
    {
     "ename": "AttributeError",
     "evalue": "module 'mdptoolbox' has no attribute 'example'",
     "output_type": "error",
     "traceback": [
      "\u001b[1;31m---------------------------------------------------------------------------\u001b[0m",
      "\u001b[1;31mAttributeError\u001b[0m                            Traceback (most recent call last)",
      "\u001b[1;32m<ipython-input-6-23f4a02141ae>\u001b[0m in \u001b[0;36m<module>\u001b[1;34m\u001b[0m\n\u001b[0;32m      1\u001b[0m \u001b[1;31m#P, R = mdptoolbox.example.small()\u001b[0m\u001b[1;33m\u001b[0m\u001b[1;33m\u001b[0m\u001b[1;33m\u001b[0m\u001b[0m\n\u001b[1;32m----> 2\u001b[1;33m \u001b[0mP\u001b[0m\u001b[1;33m,\u001b[0m \u001b[0mR\u001b[0m \u001b[1;33m=\u001b[0m \u001b[0mmdptoolbox\u001b[0m\u001b[1;33m.\u001b[0m\u001b[0mexample\u001b[0m\u001b[1;33m.\u001b[0m\u001b[0mrand\u001b[0m\u001b[1;33m(\u001b[0m\u001b[1;36m1000\u001b[0m\u001b[1;33m,\u001b[0m \u001b[1;36m5\u001b[0m\u001b[1;33m)\u001b[0m\u001b[1;33m\u001b[0m\u001b[1;33m\u001b[0m\u001b[0m\n\u001b[0m",
      "\u001b[1;31mAttributeError\u001b[0m: module 'mdptoolbox' has no attribute 'example'"
     ]
    }
   ],
   "source": [
    "#P, R = mdptoolbox.example.small()\n",
    "P, R = mdptoolbox.example.rand(1000, 5)"
   ]
  },
  {
   "cell_type": "code",
   "execution_count": 7,
   "id": "fa912cec",
   "metadata": {},
   "outputs": [],
   "source": [
    "#print(P)\n",
    "#print(R)"
   ]
  },
  {
   "cell_type": "code",
   "execution_count": 8,
   "id": "b916b8fc",
   "metadata": {},
   "outputs": [
    {
     "ename": "NameError",
     "evalue": "name 'P' is not defined",
     "output_type": "error",
     "traceback": [
      "\u001b[1;31m---------------------------------------------------------------------------\u001b[0m",
      "\u001b[1;31mNameError\u001b[0m                                 Traceback (most recent call last)",
      "\u001b[1;32m<ipython-input-8-831750b1b17b>\u001b[0m in \u001b[0;36m<module>\u001b[1;34m\u001b[0m\n\u001b[0;32m      1\u001b[0m \u001b[0mgamma\u001b[0m \u001b[1;33m=\u001b[0m \u001b[1;36m1.0\u001b[0m\u001b[1;33m\u001b[0m\u001b[1;33m\u001b[0m\u001b[0m\n\u001b[0;32m      2\u001b[0m \u001b[0mH\u001b[0m \u001b[1;33m=\u001b[0m \u001b[1;36m1000\u001b[0m\u001b[1;33m\u001b[0m\u001b[1;33m\u001b[0m\u001b[0m\n\u001b[1;32m----> 3\u001b[1;33m \u001b[0mM\u001b[0m \u001b[1;33m=\u001b[0m \u001b[0mmdptoolbox\u001b[0m\u001b[1;33m.\u001b[0m\u001b[0mmdp\u001b[0m\u001b[1;33m.\u001b[0m\u001b[0mFiniteHorizon\u001b[0m\u001b[1;33m(\u001b[0m\u001b[0mP\u001b[0m\u001b[1;33m,\u001b[0m \u001b[0mR\u001b[0m\u001b[1;33m,\u001b[0m \u001b[0mgamma\u001b[0m\u001b[1;33m,\u001b[0m \u001b[0mH\u001b[0m\u001b[1;33m)\u001b[0m\u001b[1;33m\u001b[0m\u001b[1;33m\u001b[0m\u001b[0m\n\u001b[0m\u001b[0;32m      4\u001b[0m \u001b[0mM\u001b[0m\u001b[1;33m.\u001b[0m\u001b[0mrun\u001b[0m\u001b[1;33m(\u001b[0m\u001b[1;33m)\u001b[0m\u001b[1;33m\u001b[0m\u001b[1;33m\u001b[0m\u001b[0m\n\u001b[0;32m      5\u001b[0m \u001b[1;31m#print(M.policy)\u001b[0m\u001b[1;33m\u001b[0m\u001b[1;33m\u001b[0m\u001b[1;33m\u001b[0m\u001b[0m\n",
      "\u001b[1;31mNameError\u001b[0m: name 'P' is not defined"
     ]
    }
   ],
   "source": [
    "gamma = 1.0\n",
    "H = 1000\n",
    "M = mdptoolbox.mdp.FiniteHorizon(P, R, gamma, H)\n",
    "M.run()\n",
    "#print(M.policy)\n",
    "#print(M.V)\n",
    "print(M.time)"
   ]
  },
  {
   "cell_type": "code",
   "execution_count": 93,
   "id": "6a936c82",
   "metadata": {},
   "outputs": [
    {
     "name": "stdout",
     "output_type": "stream",
     "text": [
      "2\n",
      "0.044197797775268555\n"
     ]
    }
   ],
   "source": [
    "gamma = 0.999\n",
    "M = mdptoolbox.mdp.PolicyIteration(P, R, gamma, eval_type=\"matrix\") # matrix / iterative\n",
    "M.run()\n",
    "#print(M.policy)\n",
    "#print(M.V)\n",
    "print(M.iter)\n",
    "print(M.time)"
   ]
  },
  {
   "cell_type": "code",
   "execution_count": 94,
   "id": "e49ca4c2",
   "metadata": {},
   "outputs": [
    {
     "name": "stdout",
     "output_type": "stream",
     "text": [
      "2\n",
      "1.5234260559082031\n"
     ]
    }
   ],
   "source": [
    "M = mdptoolbox.mdp.PolicyIteration(P, R, gamma, max_iter=1000, eval_type=\"iterative\") # matrix / iterative\n",
    "M.run()\n",
    "#print(M.policy)\n",
    "#print(M.V)\n",
    "print(M.iter)\n",
    "print(M.time)"
   ]
  },
  {
   "cell_type": "code",
   "execution_count": 98,
   "id": "47e0fd5b",
   "metadata": {},
   "outputs": [
    {
     "name": "stdout",
     "output_type": "stream",
     "text": [
      "3\n",
      "0.1632978916168213\n"
     ]
    }
   ],
   "source": [
    "M = mdptoolbox.mdp.PolicyIterationModified(P, R, gamma, epsilon=0.0001, max_iter=1000)\n",
    "M.run()\n",
    "#print(M.policy)\n",
    "#print(M.V)\n",
    "print(M.iter)\n",
    "print(M.time)\n"
   ]
  },
  {
   "cell_type": "code",
   "execution_count": 99,
   "id": "db9d7c58",
   "metadata": {},
   "outputs": [
    {
     "name": "stdout",
     "output_type": "stream",
     "text": [
      "9\n",
      "0.01654672622680664\n"
     ]
    }
   ],
   "source": [
    "M = mdptoolbox.mdp.ValueIteration(P, R, gamma, epsilon=0.0001, max_iter=1000)\n",
    "M.run()\n",
    "#print(M.policy)\n",
    "#print(M.V)\n",
    "print(M.iter)\n",
    "print(M.time)"
   ]
  },
  {
   "cell_type": "code",
   "execution_count": null,
   "id": "e15acae2",
   "metadata": {},
   "outputs": [],
   "source": []
  }
 ],
 "metadata": {
  "kernelspec": {
   "display_name": "Python 3",
   "language": "python",
   "name": "python3"
  },
  "language_info": {
   "codemirror_mode": {
    "name": "ipython",
    "version": 3
   },
   "file_extension": ".py",
   "mimetype": "text/x-python",
   "name": "python",
   "nbconvert_exporter": "python",
   "pygments_lexer": "ipython3",
   "version": "3.8.8"
  }
 },
 "nbformat": 4,
 "nbformat_minor": 5
}
